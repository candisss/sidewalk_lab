{
 "cells": [
  {
   "cell_type": "code",
   "execution_count": 9,
   "metadata": {
    "extensions": {
     "jupyter_dashboards": {
      "version": 1,
      "views": {
       "grid_default": {},
       "report_default": {
        "hidden": true
       }
      }
     }
    }
   },
   "outputs": [
    {
     "data": {
      "application/javascript": [
       "$('<div id=\"toc\"></div>').css({position: 'fixed', top: '150px', left: 0}).appendTo(document.body);\n",
       "$.getScript('https://kmahelona.github.io/ipython_notebook_goodies/ipython_notebook_toc.js');\n"
      ],
      "text/plain": [
       "<IPython.core.display.Javascript object>"
      ]
     },
     "metadata": {},
     "output_type": "display_data"
    }
   ],
   "source": [
    "%%javascript\n",
    "$('<div id=\"toc\"></div>').css({position: 'fixed', top: '150px', left: 0}).appendTo(document.body);\n",
    "$.getScript('https://kmahelona.github.io/ipython_notebook_goodies/ipython_notebook_toc.js');"
   ]
  },
  {
   "cell_type": "code",
   "execution_count": 10,
   "metadata": {
    "extensions": {
     "jupyter_dashboards": {
      "version": 1,
      "views": {
       "grid_default": {},
       "report_default": {
        "hidden": true
       }
      }
     }
    },
    "slideshow": {
     "slide_type": "skip"
    }
   },
   "outputs": [],
   "source": [
    "import pandas as pd\n",
    "import warnings\n",
    "warnings.filterwarnings('ignore')"
   ]
  },
  {
   "cell_type": "markdown",
   "metadata": {
    "extensions": {
     "jupyter_dashboards": {
      "version": 1,
      "views": {
       "grid_default": {},
       "report_default": {
        "hidden": false
       }
      }
     }
    }
   },
   "source": [
    "# Introduction<a class=\"anchor\" id=\"introduction\"></a>"
   ]
  },
  {
   "cell_type": "markdown",
   "metadata": {
    "extensions": {
     "jupyter_dashboards": {
      "version": 1,
      "views": {
       "grid_default": {},
       "report_default": {
        "hidden": false
       }
      }
     }
    },
    "slideshow": {
     "slide_type": "slide"
    }
   },
   "source": [
    "# Dwell Time<a class=\"anchor\" id=\"dwell-time\"></a>"
   ]
  },
  {
   "cell_type": "markdown",
   "metadata": {
    "extensions": {
     "jupyter_dashboards": {
      "version": 1,
      "views": {
       "grid_default": {},
       "report_default": {
        "hidden": false
       }
      }
     }
    }
   },
   "source": [
    "* [Where do people tend to linger?](#where-bullet)\n",
    "* [When do people tend to linger?](#when-bullet)\n",
    "* [How does dwell time change over time?](#how-bullet)"
   ]
  },
  {
   "cell_type": "markdown",
   "metadata": {
    "extensions": {
     "jupyter_dashboards": {
      "version": 1,
      "views": {
       "grid_default": {},
       "report_default": {
        "hidden": false
       }
      }
     }
    }
   },
   "source": [
    "## Where do people tend to linger? <a class=\"anchor\" id=\"where-bullet\"></a>"
   ]
  },
  {
   "cell_type": "code",
   "execution_count": 11,
   "metadata": {
    "extensions": {
     "jupyter_dashboards": {
      "version": 1,
      "views": {
       "grid_default": {},
       "report_default": {
        "hidden": true
       }
      }
     }
    },
    "slideshow": {
     "slide_type": "skip"
    }
   },
   "outputs": [],
   "source": [
    "from __future__ import print_function\n",
    "from ipywidgets import interact, interactive, fixed, interact_manual\n",
    "import ipywidgets as widgets"
   ]
  },
  {
   "cell_type": "code",
   "execution_count": 12,
   "metadata": {
    "extensions": {
     "jupyter_dashboards": {
      "version": 1,
      "views": {
       "grid_default": {},
       "report_default": {
        "hidden": false
       }
      }
     }
    },
    "scrolled": true,
    "slideshow": {
     "slide_type": "skip"
    }
   },
   "outputs": [
    {
     "name": "stdout",
     "output_type": "stream",
     "text": [
      "Populating the interactive namespace from numpy and matplotlib\n"
     ]
    }
   ],
   "source": [
    "%pylab inline\n",
    "import matplotlib.pyplot as plt\n",
    "import matplotlib.image as mpimg"
   ]
  },
  {
   "cell_type": "code",
   "execution_count": 13,
   "metadata": {
    "extensions": {
     "jupyter_dashboards": {
      "version": 1,
      "views": {
       "grid_default": {},
       "report_default": {
        "hidden": true
       }
      }
     }
    },
    "slideshow": {
     "slide_type": "skip"
    }
   },
   "outputs": [],
   "source": [
    "def f(Sensor, Time):\n",
    "    if Sensor == 1 and Time == 1:\n",
    "        img=mpimg.imread('outside_alltime.JPG')\n",
    "    if Sensor == 1 and Time == 2:\n",
    "        img=mpimg.imread('0629.jpg')\n",
    "    if Sensor == 1 and Time == 3:\n",
    "        img=mpimg.imread('0815.jpg')\n",
    "    if Sensor == 1 and Time == 4:\n",
    "        img=mpimg.imread('0926.jpg')\n",
    "    if Sensor == 1 and Time == 5:\n",
    "        img=mpimg.imread('1120.jpg')\n",
    "    if Sensor == 2 and Time == 1:\n",
    "        img=mpimg.imread('streetscape.JPG')\n",
    "    if Sensor == 2 and Time == 2:\n",
    "        img=mpimg.imread('streetscape0629.JPG')\n",
    "    if Sensor == 2 and Time == 3:\n",
    "        img=mpimg.imread('streetscape0815.JPG')\n",
    "    if Sensor == 2 and Time == 4:\n",
    "        img=mpimg.imread('streetscape0926.JPG')\n",
    "    if Sensor == 2 and Time == 5:\n",
    "        img=mpimg.imread('streetscape1120.JPG')\n",
    "    if Sensor == 3 and Time == 1:\n",
    "        img=mpimg.imread('Raincoat.jpg')\n",
    "    if Sensor == 3 and Time == 2:\n",
    "        img=mpimg.imread('Raincoat0629.jpg')\n",
    "    if Sensor == 3 and Time == 3:\n",
    "        img=mpimg.imread('Raincoat0815.jpg')\n",
    "    if Sensor == 3 and Time == 4:\n",
    "        img=mpimg.imread('Raincoat0926.jpg')\n",
    "    if Sensor == 3 and Time == 5:\n",
    "        img=mpimg.imread('Raincoat1120.jpg')\n",
    "    plt.figure(figsize = (15,8))\n",
    "    imgplot = plt.imshow(img)\n",
    "    plt.show()"
   ]
  },
  {
   "cell_type": "code",
   "execution_count": 14,
   "metadata": {
    "extensions": {
     "jupyter_dashboards": {
      "version": 1,
      "views": {
       "grid_default": {},
       "report_default": {
        "hidden": false
       }
      }
     }
    },
    "scrolled": true,
    "slideshow": {
     "slide_type": "slide"
    }
   },
   "outputs": [
    {
     "data": {
      "application/vnd.jupyter.widget-view+json": {
       "model_id": "2c142e97518c4aaab268643901c49dee",
       "version_major": 2,
       "version_minor": 0
      },
      "text/plain": [
       "interactive(children=(Dropdown(description='Sensor', options=(('Outside-Sandbox', 1), ('Streetscape-Sandbox', …"
      ]
     },
     "metadata": {},
     "output_type": "display_data"
    }
   ],
   "source": [
    "interact(f, Sensor=[('Outside-Sandbox', 1), ('Streetscape-Sandbox', 2), \n",
    "                  ('Under Raincoat-Sandbox', 3)],\n",
    "         Time=[('All Time', 1), ('Sidewalk Summer Open House', 2), \n",
    "                  ('City Moments: An event celebrating art and urban life', 3),\n",
    "                 ('Sidewalk Labs opens its door for Startup Open House ', 4), ('Tap: Ex Augmented Opera ', 5)]);"
   ]
  },
  {
   "cell_type": "code",
   "execution_count": 15,
   "metadata": {
    "extensions": {
     "jupyter_dashboards": {
      "version": 1,
      "views": {
       "grid_default": {},
       "report_default": {
        "hidden": true
       }
      }
     }
    },
    "slideshow": {
     "slide_type": "skip"
    }
   },
   "outputs": [],
   "source": [
    "def h(Sensor, DwellTime):\n",
    "    if Sensor == 2:\n",
    "        if DwellTime == 1:\n",
    "            img=mpimg.imread('Dwell Time Selector/Streetscape/All Time/1.png')\n",
    "        if DwellTime == 2:\n",
    "            img=mpimg.imread('Dwell Time Selector/Streetscape/All Time/2.png')\n",
    "        if DwellTime == 3:\n",
    "            img=mpimg.imread('Dwell Time Selector/Streetscape/All Time/3.png')\n",
    "        if DwellTime == 4:\n",
    "            img=mpimg.imread('Dwell Time Selector/Streetscape/All Time/4.png')\n",
    "        if DwellTime == 5:\n",
    "            img=mpimg.imread('Dwell Time Selector/Streetscape/All Time/5.png')\n",
    "        if DwellTime == 6:\n",
    "            img=mpimg.imread('Dwell Time Selector/Streetscape/All Time/6.png')\n",
    "        if DwellTime >= 7 and DwellTime < 13:\n",
    "            img=mpimg.imread('Dwell Time Selector/Streetscape/All Time/7.png')\n",
    "        if DwellTime >= 13 and DwellTime < 22:\n",
    "            img=mpimg.imread('Dwell Time Selector/Streetscape/All Time/13.png')\n",
    "        if DwellTime == 22:\n",
    "            img=mpimg.imread('Dwell Time Selector/Streetscape/All Time/22.png')\n",
    "        if DwellTime == 23:\n",
    "            img=mpimg.imread('Dwell Time Selector/Streetscape/All Time/23.png')\n",
    "        if DwellTime >= 24:\n",
    "            img=mpimg.imread('Dwell Time Selector/Streetscape/All Time/24.png')\n",
    "    elif Sensor == 1:\n",
    "        if DwellTime == 1:\n",
    "            img=mpimg.imread('Dwell Time Selector/Outside/1.png')\n",
    "        if DwellTime == 2:\n",
    "            img=mpimg.imread('Dwell Time Selector/Outside/2.png')\n",
    "        if DwellTime == 3:\n",
    "            img=mpimg.imread('Dwell Time Selector/Outside/3.png')\n",
    "        if DwellTime == 4:\n",
    "            img=mpimg.imread('Dwell Time Selector/Outside/4.png')\n",
    "        if DwellTime >= 5 and DwellTime < 10:\n",
    "            img=mpimg.imread('Dwell Time Selector/Outside/5.png')\n",
    "        if DwellTime >= 10:\n",
    "            img=mpimg.imread('Dwell Time Selector/Outside/10.JPEG')       \n",
    "    elif Sensor == 3:\n",
    "        if DwellTime == 1:\n",
    "            img=mpimg.imread('Dwell Time Selector/Raincoat/1.png')\n",
    "        if DwellTime == 2:\n",
    "            img=mpimg.imread('Dwell Time Selector/Raincoat/2.png')\n",
    "        if DwellTime == 3:\n",
    "            img=mpimg.imread('Dwell Time Selector/Raincoat/3.png')\n",
    "        if DwellTime == 4:\n",
    "            img=mpimg.imread('Dwell Time Selector/Raincoat/4.png')\n",
    "        if DwellTime == 5:\n",
    "            img=mpimg.imread('Dwell Time Selector/Raincoat/5.png')\n",
    "        if DwellTime == 6:\n",
    "            img=mpimg.imread('Dwell Time Selector/Raincoat/6.png')\n",
    "        if DwellTime >= 7:\n",
    "            img=mpimg.imread('Dwell Time Selector/Raincoat/7.JPEG')\n",
    "        \n",
    "    plt.figure(figsize = (15,8))\n",
    "    imgplot = plt.imshow(img)\n",
    "    plt.show()"
   ]
  },
  {
   "cell_type": "code",
   "execution_count": 16,
   "metadata": {
    "extensions": {
     "jupyter_dashboards": {
      "version": 1,
      "views": {
       "grid_default": {},
       "report_default": {
        "hidden": false
       }
      }
     }
    },
    "scrolled": true,
    "slideshow": {
     "slide_type": "slide"
    }
   },
   "outputs": [
    {
     "data": {
      "application/vnd.jupyter.widget-view+json": {
       "model_id": "8e7d5c87bbf549e9aed10800b178106d",
       "version_major": 2,
       "version_minor": 0
      },
      "text/plain": [
       "interactive(children=(Dropdown(description='Sensor', options=(('Outside-Sandbox', 1), ('Streetscape-Sandbox', …"
      ]
     },
     "metadata": {},
     "output_type": "display_data"
    }
   ],
   "source": [
    "interact(h, Sensor=[('Outside-Sandbox', 1), ('Streetscape-Sandbox', 2), \n",
    "                  ('Under Raincoat-Sandbox', 3)], DwellTime=(1,25,1));"
   ]
  },
  {
   "cell_type": "markdown",
   "metadata": {
    "extensions": {
     "jupyter_dashboards": {
      "version": 1,
      "views": {
       "grid_default": {},
       "report_default": {
        "hidden": false
       }
      }
     }
    }
   },
   "source": [
    "## When do people tend to linger? <a class=\"anchor\" id=\"when-bullet\"></a>"
   ]
  },
  {
   "cell_type": "code",
   "execution_count": 17,
   "metadata": {
    "extensions": {
     "jupyter_dashboards": {
      "version": 1,
      "views": {
       "grid_default": {},
       "report_default": {
        "hidden": true
       }
      }
     }
    }
   },
   "outputs": [],
   "source": [
    "def calmap(Sensor):\n",
    "    import numpy as np\n",
    "    import calmap # pip install calmap\n",
    "    from mpl_toolkits.axes_grid1 import make_axes_locatable\n",
    "    from mpldatacursor import datacursor\n",
    "    %matplotlib inline\n",
    "    if Sensor == 1:\n",
    "        data = pd.read_csv(\"outsideDwellTime.csv\")\n",
    "        location = 'Outside'\n",
    "    if Sensor == 2:\n",
    "        data = pd.read_csv(\"streetscapeDwellTime.csv\")\n",
    "        location = 'Streetscape'\n",
    "    if Sensor == 3:\n",
    "        data = pd.read_csv(\"raincoatDwellTime.csv\")\n",
    "        location = 'Under Raincoat'\n",
    "    data = data.set_index('time')\n",
    "    data.index = pd.to_datetime(data.index)\n",
    "    fig,ax=calmap.calendarplot(data['pct50'], fillcolor='grey', linewidth=0,cmap='Reds',\n",
    "                        fig_kws=dict(figsize=(17,8)))\n",
    "    divider = make_axes_locatable(cax)\n",
    "    lcax = divider.append_axes(\"right\", size=\"2%\", pad=1.0)\n",
    "    fig.colorbar(ax[0].get_children()[1], ax=ax.ravel().tolist())\n",
    "    fig.suptitle('Calendar Heatmap for '+location ,fontsize=30,y=1.08)\n",
    "    plt.show()"
   ]
  },
  {
   "cell_type": "code",
   "execution_count": 18,
   "metadata": {
    "extensions": {
     "jupyter_dashboards": {
      "version": 1,
      "views": {
       "grid_default": {},
       "report_default": {
        "hidden": false
       }
      }
     }
    },
    "scrolled": true
   },
   "outputs": [
    {
     "data": {
      "application/vnd.jupyter.widget-view+json": {
       "model_id": "23d01b92e49a4d6780086ac188f13171",
       "version_major": 2,
       "version_minor": 0
      },
      "text/plain": [
       "interactive(children=(Dropdown(description='Sensor', options=(('Outside-Sandbox', 1), ('Streetscape-Sandbox', …"
      ]
     },
     "metadata": {},
     "output_type": "display_data"
    },
    {
     "data": {
      "image/png": "[encoded data removed]",
      "text/plain": [
       "<Figure size 1224x576 with 2 Axes>"
      ]
     },
     "metadata": {
      "needs_background": "light"
     },
     "output_type": "display_data"
    }
   ],
   "source": [
    "interact(calmap, Sensor=[('Outside-Sandbox', 1), ('Streetscape-Sandbox', 2), \n",
    "                  ('Under Raincoat-Sandbox', 3)]);"
   ]
  },
  {
   "cell_type": "markdown",
   "metadata": {
    "extensions": {
     "jupyter_dashboards": {
      "version": 1,
      "views": {
       "grid_default": {},
       "report_default": {
        "hidden": false
       }
      }
     }
    }
   },
   "source": [
    "## How does dwell time change over time?  <a class=\"anchor\" id=\"how-bullet\"></a>"
   ]
  },
  {
   "cell_type": "code",
   "execution_count": 19,
   "metadata": {
    "extensions": {
     "jupyter_dashboards": {
      "version": 1,
      "views": {
       "grid_default": {},
       "report_default": {
        "hidden": true
       }
      }
     }
    },
    "slideshow": {
     "slide_type": "skip"
    }
   },
   "outputs": [],
   "source": [
    "def g(Sensor):\n",
    "    if Sensor == 1:\n",
    "        img=mpimg.imread('OutsideBehaviorZone.JPG')\n",
    "    if Sensor == 2:\n",
    "        img=mpimg.imread('StreetscapeBehaviorZone.JPG')\n",
    "    if Sensor == 3:\n",
    "        img=mpimg.imread('RaincoatBehaviorZone.JPG')\n",
    "    plt.figure(figsize = (15,8))\n",
    "    imgplot = plt.imshow(img)\n",
    "    plt.show()"
   ]
  },
  {
   "cell_type": "code",
   "execution_count": 20,
   "metadata": {
    "extensions": {
     "jupyter_dashboards": {
      "version": 1,
      "views": {
       "grid_default": {},
       "report_default": {
        "hidden": false
       }
      }
     }
    },
    "slideshow": {
     "slide_type": "slide"
    }
   },
   "outputs": [
    {
     "data": {
      "application/vnd.jupyter.widget-view+json": {
       "model_id": "bb6820e78a8e4d54a3a2ba3771c898d6",
       "version_major": 2,
       "version_minor": 0
      },
      "text/plain": [
       "interactive(children=(Dropdown(description='Sensor', options=(('Outside-Sandbox', 1), ('Streetscape-Sandbox', …"
      ]
     },
     "metadata": {},
     "output_type": "display_data"
    }
   ],
   "source": [
    "interact(g, Sensor=[('Outside-Sandbox', 1), ('Streetscape-Sandbox', 2), \n",
    "                  ('Under Raincoat-Sandbox', 3)]);"
   ]
  },
  {
   "cell_type": "code",
   "execution_count": 21,
   "metadata": {
    "extensions": {
     "jupyter_dashboards": {
      "version": 1,
      "views": {
       "grid_default": {},
       "report_default": {
        "hidden": true
       }
      }
     }
    },
    "scrolled": false,
    "slideshow": {
     "slide_type": "skip"
    }
   },
   "outputs": [],
   "source": [
    "from __future__ import print_function\n",
    "import ipywidgets as widgets\n",
    "from ipywidgets import interact, interactive, fixed, interact_manual\n",
    "import ipywidgets as widgets\n",
    "from IPython.display import clear_output\n",
    "import pandas as pd\n",
    "\n",
    "import seaborn as sns\n",
    "import matplotlib.pylab as plt\n",
    "\n",
    "def bar(x):\n",
    "    pass\n",
    "\n",
    "# Function for the button to select user input and do work\n",
    "def get_user_selection(a):\n",
    "    import plotly.express as px\n",
    "    with out:\n",
    "        clear_output(True)\n",
    "        # 1st zone is chair\n",
    "        if (dropbox1.value == 1) and (dropbox2.value == 1):\n",
    "            data = pd.read_csv(\"chairOutside.csv\")\n",
    "            location = 'chair'\n",
    "        elif (dropbox1.value == 1) and (dropbox2.value == 2):\n",
    "            data = pd.read_csv(\"chairOutside.csv\")\n",
    "            data2 = pd.read_csv(\"tableOutside.csv\")\n",
    "            data['pct50'] = data['pct50'] - data2['pct50']\n",
    "            location = 'chair - table'\n",
    "        elif (dropbox1.value == 1) and (dropbox2.value == 3):\n",
    "            data = pd.read_csv(\"chairOutside.csv\")\n",
    "            data2 = pd.read_csv(\"treeOutside.csv\")\n",
    "            data['pct50'] = data['pct50'] - data2['pct50']\n",
    "            location = 'chair - tree'\n",
    "        elif (dropbox1.value == 1) and (dropbox2.value == 4):\n",
    "            data = pd.read_csv(\"chairOutside.csv\")\n",
    "            data2 = pd.read_csv(\"boxOutside.csv\")\n",
    "            data['pct50'] = data['pct50'] - data2['pct50']\n",
    "            location = 'chair - box'\n",
    "        elif (dropbox1.value == 1) and (dropbox2.value == 5):\n",
    "            data = pd.read_csv(\"chairOutside.csv\")\n",
    "            data2 = pd.read_csv(\"mapleleafOutside.csv\")\n",
    "            data['pct50'] = data['pct50'] - data2['pct50']\n",
    "            location = 'chair - maple leaf'\n",
    "        # 1st zone is table\n",
    "        elif (dropbox1.value == 2) and (dropbox2.value == 1):\n",
    "            data = pd.read_csv(\"tableOutside.csv\")\n",
    "            data2 = pd.read_csv(\"chairOutside.csv\")\n",
    "            data['pct50'] = data['pct50'] - data2['pct50']\n",
    "            location = 'table - chair'\n",
    "        elif (dropbox1.value == 2) and (dropbox2.value == 2):\n",
    "            data = pd.read_csv(\"tableOutside.csv\")\n",
    "            location = 'table'\n",
    "        elif (dropbox1.value == 2) and (dropbox2.value == 3):\n",
    "            data = pd.read_csv(\"tableOutside.csv\")\n",
    "            data2 = pd.read_csv(\"treeOutside.csv\")\n",
    "            data['pct50'] = data['pct50'] - data2['pct50']\n",
    "            location = 'table - tree'\n",
    "        elif (dropbox1.value == 2) and (dropbox2.value == 4):\n",
    "            data = pd.read_csv(\"tableOutside.csv\")\n",
    "            data2 = pd.read_csv(\"boxOutside.csv\")\n",
    "            data['pct50'] = data['pct50'] - data2['pct50']\n",
    "            location = 'table - box'\n",
    "        elif (dropbox1.value == 2) and (dropbox2.value == 5):\n",
    "            data = pd.read_csv(\"tableOutside.csv\")\n",
    "            data2 = pd.read_csv(\"mapleleafOutside.csv\")\n",
    "            data['pct50'] = data['pct50'] - data2['pct50']\n",
    "            location = 'table - maple leaf'\n",
    "        # 1st zone is tree\n",
    "        elif (dropbox1.value == 3) and (dropbox2.value == 1):\n",
    "            data = pd.read_csv(\"treeOutside.csv\")\n",
    "            data2 = pd.read_csv(\"chairOutside.csv\")\n",
    "            data['pct50'] = data['pct50'] - data2['pct50']\n",
    "            location = 'tree - chair'\n",
    "        elif (dropbox1.value == 3) and (dropbox2.value == 2):\n",
    "            data = pd.read_csv(\"treeOutside.csv\")\n",
    "            data2 = pd.read_csv(\"tableOutside.csv\")\n",
    "            data['pct50'] = data['pct50'] - data2['pct50']\n",
    "            location = 'tree - table'\n",
    "        elif (dropbox1.value == 3) and (dropbox2.value == 3):\n",
    "            data = pd.read_csv(\"treeOutside.csv\")\n",
    "            location = 'tree'\n",
    "        elif (dropbox1.value == 3) and (dropbox2.value == 4):\n",
    "            data = pd.read_csv(\"treeOutside.csv\")\n",
    "            data2 = pd.read_csv(\"boxOutside.csv\")\n",
    "            data['pct50'] = data['pct50'] - data2['pct50']\n",
    "            location = 'tree - box'\n",
    "        elif (dropbox1.value == 3) and (dropbox2.value == 5):\n",
    "            data = pd.read_csv(\"treeOutside.csv\")\n",
    "            data2 = pd.read_csv(\"mapleleafOutside.csv\")\n",
    "            data['pct50'] = data['pct50'] - data2['pct50']\n",
    "            location = 'tree - maple leaf'\n",
    "        # 1st zone is box\n",
    "        elif (dropbox1.value == 4) and (dropbox2.value == 1):\n",
    "            data = pd.read_csv(\"boxOutside.csv\")\n",
    "            data2 = pd.read_csv(\"chairOutside.csv\")\n",
    "            data['pct50'] = data['pct50'] - data2['pct50']\n",
    "            location = 'box - chair'\n",
    "        elif (dropbox1.value == 4) and (dropbox2.value == 2):\n",
    "            data = pd.read_csv(\"boxOutside.csv\")\n",
    "            data2 = pd.read_csv(\"tableOutside.csv\")\n",
    "            data['pct50'] = data['pct50'] - data2['pct50']\n",
    "            location = 'box - table'\n",
    "        elif (dropbox1.value == 4) and (dropbox2.value == 3):\n",
    "            data = pd.read_csv(\"boxOutside.csv\")\n",
    "            data2 = pd.read_csv(\"treeOutside.csv\")\n",
    "            data['pct50'] = data['pct50'] - data2['pct50']\n",
    "            location = 'box - tree'\n",
    "        elif (dropbox1.value == 4) and (dropbox2.value == 4):\n",
    "            data = pd.read_csv(\"boxOutside.csv\")\n",
    "            location = 'box'\n",
    "        elif (dropbox1.value == 4) and (dropbox2.value == 5):\n",
    "            data = pd.read_csv(\"boxOutside.csv\")\n",
    "            data2 = pd.read_csv(\"mapleleafOutside.csv\")\n",
    "            data['pct50'] = data['pct50'] - data2['pct50']\n",
    "            location = 'box - maple leaf'\n",
    "        # 1st zone is maple leaf\n",
    "        elif (dropbox1.value == 5) and (dropbox2.value == 1):\n",
    "            data = pd.read_csv(\"mapleleafOutside.csv\")\n",
    "            data2 = pd.read_csv(\"chairOutside.csv\")\n",
    "            data['pct50'] = data['pct50'] - data2['pct50']\n",
    "            location = 'maple leaf - chair'\n",
    "        elif (dropbox1.value == 5) and (dropbox2.value == 2):\n",
    "            data = pd.read_csv(\"mapleleafOutside.csv\")\n",
    "            data2 = pd.read_csv(\"tableOutside.csv\")\n",
    "            data['pct50'] = data['pct50'] - data2['pct50']\n",
    "            location = 'maple leaf - table'\n",
    "        elif (dropbox1.value == 5) and (dropbox2.value == 3):\n",
    "            data = pd.read_csv(\"mapleleafOutside.csv\")\n",
    "            data2 = pd.read_csv(\"treeOutside.csv\")\n",
    "            data['pct50'] = data['pct50'] - data2['pct50']\n",
    "            location = 'maple leaf - tree'\n",
    "        elif (dropbox1.value == 5) and (dropbox2.value == 4):\n",
    "            data = pd.read_csv(\"mapleleafOutside.csv\")\n",
    "            data2 = pd.read_csv(\"boxOutside.csv\")\n",
    "            data['pct50'] = data['pct50'] - data2['pct50']\n",
    "            location = 'maple leaf - box'\n",
    "        elif (dropbox1.value == 5) and (dropbox2.value == 5):\n",
    "            data = pd.read_csv(\"mapleleafOutside.csv\")\n",
    "            location = 'maple leaf'\n",
    "        fig = px.line(data, x=\"time\", y=\"pct50\", title='Trend Chart of Dwell Time in '+location)\n",
    "        fig.show()\n",
    "        plt.show()\n",
    "\n",
    "# creation of a widget html showing the type of the sensor\n",
    "title = widgets.HTML(\n",
    "    value=\"<b>Outside</b> Sandbox\"\n",
    ")\n",
    "\n",
    "# creation of a widget dropdown object called dropbox1\n",
    "dropbox1 = widgets.Dropdown(\n",
    "    options=[('Chair', 1), ('Table', 2), ('Tree', 3), ('Box', 4), ('Maple Leaf', 5)],\n",
    "    value=2,\n",
    "    description='1st Zone:',\n",
    ");\n",
    "\n",
    "# creation of a widget dropdown object called dropbox2\n",
    "dropbox2 = widgets.Dropdown(\n",
    "    options=[('Chair', 1), ('Table', 2), ('Tree', 3), ('Box', 4), ('Maple Leaf', 5)],\n",
    "    value=2,\n",
    "    description='2nd Zone:',\n",
    ")\n",
    "\n",
    "# Button to click\n",
    "select_button = widgets.Button(\n",
    "    description='Apply',\n",
    ")\n",
    "\n",
    "out = widgets.Output()\n",
    "\n",
    "# Event Handlers\n",
    "dropbox1.observe(bar,names='value')\n",
    "dropbox2.observe(bar,names='value')\n",
    "select_button.on_click(get_user_selection)\n",
    "# Create a UI object to display things.  There are other ways of organizing them.\n",
    "ui = widgets.HBox([title,dropbox1,dropbox2,select_button]) # pass an array of widgets to the ui\n",
    "\n",
    "# display the UI"
   ]
  },
  {
   "cell_type": "code",
   "execution_count": 22,
   "metadata": {
    "extensions": {
     "jupyter_dashboards": {
      "version": 1,
      "views": {
       "grid_default": {},
       "report_default": {
        "hidden": false
       }
      }
     }
    },
    "slideshow": {
     "slide_type": "slide"
    }
   },
   "outputs": [
    {
     "data": {
      "application/vnd.jupyter.widget-view+json": {
       "model_id": "c257339af31e436dbf8e66fb64d476b1",
       "version_major": 2,
       "version_minor": 0
      },
      "text/plain": [
       "HBox(children=(HTML(value='<b>Outside</b> Sandbox'), Dropdown(description='1st Zone:', index=1, options=(('Cha…"
      ]
     },
     "metadata": {},
     "output_type": "display_data"
    },
    {
     "data": {
      "application/vnd.jupyter.widget-view+json": {
       "model_id": "8ae3cc7ba3704c8db74838b557165fec",
       "version_major": 2,
       "version_minor": 0
      },
      "text/plain": [
       "Output()"
      ]
     },
     "metadata": {},
     "output_type": "display_data"
    }
   ],
   "source": [
    "display(ui)\n",
    "with out:\n",
    "    show()\n",
    "out"
   ]
  },
  {
   "cell_type": "code",
   "execution_count": 23,
   "metadata": {
    "extensions": {
     "jupyter_dashboards": {
      "version": 1,
      "views": {
       "grid_default": {},
       "report_default": {
        "hidden": true
       }
      }
     }
    },
    "slideshow": {
     "slide_type": "skip"
    }
   },
   "outputs": [],
   "source": [
    "def bar(x):\n",
    "    pass\n",
    "\n",
    "# Function for the button to select user input and do work\n",
    "def get_user_selection(a):\n",
    "    import plotly.express as px\n",
    "    with out:\n",
    "        clear_output(True)\n",
    "        # 1st zone is seat\n",
    "        if (dropbox1.value == 1) and (dropbox2.value == 1):\n",
    "            data = pd.read_csv(\"seatStreetscape.csv\")\n",
    "            location = 'seat'\n",
    "        elif (dropbox1.value == 1) and (dropbox2.value == 2):\n",
    "            data = pd.read_csv(\"seatStreetscape.csv\")\n",
    "            data2 = pd.read_csv(\"officeStreetscape.csv\")\n",
    "            data['pct50'] = data['pct50'] - data2['pct50']\n",
    "            location = 'seat - office'\n",
    "        elif (dropbox1.value == 1) and (dropbox2.value == 3):\n",
    "            data = pd.read_csv(\"seatStreetscape.csv\")\n",
    "            data2 = pd.read_csv(\"stairStreetscape.csv\")\n",
    "            data['pct50'] = data['pct50'] - data2['pct50']\n",
    "            location = 'seat - stair'\n",
    "        elif (dropbox1.value == 1) and (dropbox2.value == 4):\n",
    "            data = pd.read_csv(\"seatStreetscape.csv\")\n",
    "            data2 = pd.read_csv(\"table1Streetscape.csv\")\n",
    "            data['pct50'] = data['pct50'] - data2['pct50']\n",
    "            location = 'seat - table1'\n",
    "        elif (dropbox1.value == 1) and (dropbox2.value == 5):\n",
    "            data = pd.read_csv(\"seatStreetscape.csv\")\n",
    "            data2 = pd.read_csv(\"table2Streetscape.csv\")\n",
    "            data['pct50'] = data['pct50'] - data2['pct50']\n",
    "            location = 'seat - table2'\n",
    "        # 1st zone is office\n",
    "        elif (dropbox1.value == 2) and (dropbox2.value == 1):\n",
    "            data = pd.read_csv(\"officeStreetscape.csv\")\n",
    "            data2 = pd.read_csv(\"seatStreetscape.csv\")\n",
    "            data['pct50'] = data['pct50'] - data2['pct50']\n",
    "            location = 'office - seat'\n",
    "        elif (dropbox1.value == 2) and (dropbox2.value == 2):\n",
    "            data = pd.read_csv(\"officeStreetscape.csv\")\n",
    "            location = 'office'\n",
    "        elif (dropbox1.value == 2) and (dropbox2.value == 3):\n",
    "            data = pd.read_csv(\"officeStreetscape.csv\")\n",
    "            data2 = pd.read_csv(\"stairStreetscape.csv\")\n",
    "            data['pct50'] = data['pct50'] - data2['pct50']\n",
    "            location = 'office - stair'\n",
    "        elif (dropbox1.value == 2) and (dropbox2.value == 4):\n",
    "            data = pd.read_csv(\"officeStreetscape.csv\")\n",
    "            data2 = pd.read_csv(\"table1Streetscape.csv\")\n",
    "            data['pct50'] = data['pct50'] - data2['pct50']\n",
    "            location = 'office - table1'\n",
    "        elif (dropbox1.value == 2) and (dropbox2.value == 5):\n",
    "            data = pd.read_csv(\"officeStreetscape.csv\")\n",
    "            data2 = pd.read_csv(\"table2Streetscape.csv\")\n",
    "            data['pct50'] = data['pct50'] - data2['pct50']\n",
    "            location = 'office - table2'\n",
    "        # 1st zone is stair\n",
    "        elif (dropbox1.value == 3) and (dropbox2.value == 1):\n",
    "            data = pd.read_csv(\"stairStreetscape.csv\")\n",
    "            data2 = pd.read_csv(\"seatStreetscape.csv\")\n",
    "            data['pct50'] = data['pct50'] - data2['pct50']\n",
    "            location = 'stair - seat'\n",
    "        elif (dropbox1.value == 3) and (dropbox2.value == 2):\n",
    "            data = pd.read_csv(\"stairStreetscape.csv\")\n",
    "            data2 = pd.read_csv(\"officeStreetscape.csv\")\n",
    "            data['pct50'] = data['pct50'] - data2['pct50']\n",
    "            location = 'stair - office'\n",
    "        elif (dropbox1.value == 3) and (dropbox2.value == 3):\n",
    "            data = pd.read_csv(\"stairStreetscape.csv\")\n",
    "            location = 'stair'\n",
    "        elif (dropbox1.value == 3) and (dropbox2.value == 4):\n",
    "            data = pd.read_csv(\"stairStreetscape.csv\")\n",
    "            data2 = pd.read_csv(\"table1Streetscape.csv\")\n",
    "            data['pct50'] = data['pct50'] - data2['pct50']\n",
    "            location = 'stair - table1'\n",
    "        elif (dropbox1.value == 3) and (dropbox2.value == 5):\n",
    "            data = pd.read_csv(\"stairStreetscape.csv\")\n",
    "            data2 = pd.read_csv(\"table2Streetscape.csv\")\n",
    "            data['pct50'] = data['pct50'] - data2['pct50']\n",
    "            location = 'stair - table2'\n",
    "        # 1st zone is table1\n",
    "        elif (dropbox1.value == 4) and (dropbox2.value == 1):\n",
    "            data = pd.read_csv(\"table1Streetscape.csv\")\n",
    "            data2 = pd.read_csv(\"seatStreetscape.csv\")\n",
    "            data['pct50'] = data['pct50'] - data2['pct50']\n",
    "            location = 'table1 - seat'\n",
    "        elif (dropbox1.value == 4) and (dropbox2.value == 2):\n",
    "            data = pd.read_csv(\"table1Streetscape.csv\")\n",
    "            data2 = pd.read_csv(\"officeStreetscape.csv\")\n",
    "            data['pct50'] = data['pct50'] - data2['pct50']\n",
    "            location = 'table1 - office'\n",
    "        elif (dropbox1.value == 4) and (dropbox2.value == 3):\n",
    "            data = pd.read_csv(\"table1Streetscape.csv\")\n",
    "            data2 = pd.read_csv(\"stairStreetscape.csv\")\n",
    "            data['pct50'] = data['pct50'] - data2['pct50']\n",
    "            location = 'table1 - stair'\n",
    "        elif (dropbox1.value == 4) and (dropbox2.value == 4):\n",
    "            data = pd.read_csv(\"table1Streetscape.csv\")\n",
    "            location = 'table1'\n",
    "        elif (dropbox1.value == 4) and (dropbox2.value == 5):\n",
    "            data = pd.read_csv(\"table1Streetscape.csv\")\n",
    "            data2 = pd.read_csv(\"table2Streetscape.csv\")\n",
    "            data['pct50'] = data['pct50'] - data2['pct50']\n",
    "            location = 'table1 - table2'\n",
    "        # 1st zone is table2\n",
    "        elif (dropbox1.value == 5) and (dropbox2.value == 1):\n",
    "            data = pd.read_csv(\"table2Streetscape.csv\")\n",
    "            data2 = pd.read_csv(\"seatStreetscape.csv\")\n",
    "            data['pct50'] = data['pct50'] - data2['pct50']\n",
    "            location = 'table2 - seat'\n",
    "        elif (dropbox1.value == 5) and (dropbox2.value == 2):\n",
    "            data = pd.read_csv(\"table2Streetscape.csv\")\n",
    "            data2 = pd.read_csv(\"officeStreetscape.csv\")\n",
    "            data['pct50'] = data['pct50'] - data2['pct50']\n",
    "            location = 'table2 - office'\n",
    "        elif (dropbox1.value == 5) and (dropbox2.value == 3):\n",
    "            data = pd.read_csv(\"table2Streetscape.csv\")\n",
    "            data2 = pd.read_csv(\"stairStreetscape.csv\")\n",
    "            data['pct50'] = data['pct50'] - data2['pct50']\n",
    "            location = 'table2 - stair'\n",
    "        elif (dropbox1.value == 5) and (dropbox2.value == 4):\n",
    "            data = pd.read_csv(\"table2Streetscape.csv\")\n",
    "            data2 = pd.read_csv(\"table1Streetscape.csv\")\n",
    "            data['pct50'] = data['pct50'] - data2['pct50']\n",
    "            location = 'table2 - table1'\n",
    "        elif (dropbox1.value == 5) and (dropbox2.value == 5):\n",
    "            data = pd.read_csv(\"table2Streetscape.csv\")\n",
    "            location = 'table2'\n",
    "        fig = px.line(data, x=\"time\", y=\"pct50\", title='Trend Chart of Dwell Time in '+location)\n",
    "        fig.show()\n",
    "        plt.show()\n",
    "\n",
    "# creation of a widget html showing the type of the sensor\n",
    "title = widgets.HTML(\n",
    "    value=\"<b>Streetscape</b> Sandbox\"\n",
    ")\n",
    "\n",
    "# creation of a widget dropdown object called dropbox1\n",
    "dropbox1 = widgets.Dropdown(\n",
    "    options=[('Seat', 1), ('Office', 2), ('Stair', 3), ('Table1', 4), ('Table2', 5)],\n",
    "    value=2,\n",
    "    description='1st Zone:',\n",
    ");\n",
    "\n",
    "# creation of a widget dropdown object called dropbox2\n",
    "dropbox2 = widgets.Dropdown(\n",
    "    options=[('Seat', 1), ('Office', 2), ('Stair', 3), ('Table1', 4), ('Table2', 5)],\n",
    "    value=2,\n",
    "    description='2nd Zone:',\n",
    ")\n",
    "\n",
    "# Button to click\n",
    "select_button = widgets.Button(\n",
    "    description='Apply',\n",
    ")\n",
    "\n",
    "out = widgets.Output()\n",
    "\n",
    "# Event Handlers\n",
    "dropbox1.observe(bar,names='value')\n",
    "dropbox2.observe(bar,names='value')\n",
    "select_button.on_click(get_user_selection)\n",
    "# Create a UI object to display things.  There are other ways of organizing them.\n",
    "ui = widgets.HBox([title,dropbox1,dropbox2,select_button]) # pass an array of widgets to the ui\n",
    "# display the UI\n"
   ]
  },
  {
   "cell_type": "code",
   "execution_count": 24,
   "metadata": {
    "extensions": {
     "jupyter_dashboards": {
      "version": 1,
      "views": {
       "grid_default": {},
       "report_default": {
        "hidden": false
       }
      }
     }
    },
    "slideshow": {
     "slide_type": "slide"
    }
   },
   "outputs": [
    {
     "data": {
      "application/vnd.jupyter.widget-view+json": {
       "model_id": "6fc5061cb2c8449dbdaf0facbd8da295",
       "version_major": 2,
       "version_minor": 0
      },
      "text/plain": [
       "HBox(children=(HTML(value='<b>Streetscape</b> Sandbox'), Dropdown(description='1st Zone:', index=1, options=((…"
      ]
     },
     "metadata": {},
     "output_type": "display_data"
    },
    {
     "data": {
      "application/vnd.jupyter.widget-view+json": {
       "model_id": "f245798203304c5ebf209e86e515e550",
       "version_major": 2,
       "version_minor": 0
      },
      "text/plain": [
       "Output()"
      ]
     },
     "metadata": {},
     "output_type": "display_data"
    }
   ],
   "source": [
    "display(ui)\n",
    "with out:\n",
    "    show()\n",
    "out"
   ]
  },
  {
   "cell_type": "code",
   "execution_count": 25,
   "metadata": {
    "extensions": {
     "jupyter_dashboards": {
      "version": 1,
      "views": {
       "grid_default": {},
       "report_default": {
        "hidden": true
       }
      }
     }
    },
    "slideshow": {
     "slide_type": "skip"
    }
   },
   "outputs": [],
   "source": [
    "def bar(x):\n",
    "    pass\n",
    "\n",
    "# Function for the button to select user input and do work\n",
    "def get_user_selection(a):\n",
    "    import plotly.express as px\n",
    "    with out:\n",
    "        clear_output(True)\n",
    "        # 1st zone is chair1\n",
    "        if (dropbox1.value == 1) and (dropbox2.value == 1):\n",
    "            data = pd.read_csv(\"chair1Raincoat.csv\")\n",
    "            location = 'chair1'\n",
    "        elif (dropbox1.value == 1) and (dropbox2.value == 2):\n",
    "            data = pd.read_csv(\"chair1Raincoat.csv\")\n",
    "            data2 = pd.read_csv(\"chair2Raincoat.csv\")\n",
    "            data['pct50'] = data['pct50'] - data2['pct50']\n",
    "            location = 'chair1 - table2'\n",
    "        elif (dropbox1.value == 1) and (dropbox2.value == 3):\n",
    "            data = pd.read_csv(\"chair1Raincoat.csv\")\n",
    "            data2 = pd.read_csv(\"chair3Raincoat.csv\")\n",
    "            data['pct50'] = data['pct50'] - data2['pct50']\n",
    "            location = 'chair1 - chair3'\n",
    "        elif (dropbox1.value == 1) and (dropbox2.value == 4):\n",
    "            data = pd.read_csv(\"chair1Raincoat.csv\")\n",
    "            data2 = pd.read_csv(\"treeRaincoat.csv\")\n",
    "            data['pct50'] = data['pct50'] - data2['pct50']\n",
    "            location = 'chair1 - tree'\n",
    "        # 1st zone is chair2\n",
    "        elif (dropbox1.value == 2) and (dropbox2.value == 1):\n",
    "            data = pd.read_csv(\"chair2Raincoat.csv\")\n",
    "            data2 = pd.read_csv(\"chair1Raincoat.csv\")\n",
    "            data['pct50'] = data['pct50'] - data2['pct50']\n",
    "            location = 'chair2 - chair1'\n",
    "        elif (dropbox1.value == 2) and (dropbox2.value == 2):\n",
    "            data = pd.read_csv(\"chair2Raincoat.csv\")\n",
    "            location = 'chair2'\n",
    "        elif (dropbox1.value == 2) and (dropbox2.value == 3):\n",
    "            data = pd.read_csv(\"chair2Raincoat.csv\")\n",
    "            data2 = pd.read_csv(\"chair3Raincoat.csv\")\n",
    "            data['pct50'] = data['pct50'] - data2['pct50']\n",
    "            location = 'chair2 - chair3'\n",
    "        elif (dropbox1.value == 2) and (dropbox2.value == 4):\n",
    "            data = pd.read_csv(\"chair2Raincoat.csv\")\n",
    "            data2 = pd.read_csv(\"treeRaincoat.csv\")\n",
    "            data['pct50'] = data['pct50'] - data2['pct50']\n",
    "            location = 'chair2 - tree'\n",
    "        # 1st zone is chair3\n",
    "        elif (dropbox1.value == 3) and (dropbox2.value == 1):\n",
    "            data = pd.read_csv(\"chair3Raincoat.csv\")\n",
    "            data2 = pd.read_csv(\"chair1Raincoat.csv\")\n",
    "            data['pct50'] = data['pct50'] - data2['pct50']\n",
    "            location = 'chair3 - chair1'\n",
    "        elif (dropbox1.value == 3) and (dropbox2.value == 2):\n",
    "            data = pd.read_csv(\"chair3Raincoat.csv\")\n",
    "            data2 = pd.read_csv(\"chair2Raincoat.csv\")\n",
    "            data['pct50'] = data['pct50'] - data2['pct50']\n",
    "            location = 'chair3 - chair2'\n",
    "        elif (dropbox1.value == 3) and (dropbox2.value == 3):\n",
    "            data = pd.read_csv(\"chair3Raincoat.csv\")\n",
    "            location = 'chair3'\n",
    "        elif (dropbox1.value == 3) and (dropbox2.value == 4):\n",
    "            data = pd.read_csv(\"chair3Raincoat.csv\")\n",
    "            data2 = pd.read_csv(\"treeRaincoat.csv\")\n",
    "            data['pct50'] = data['pct50'] - data2['pct50']\n",
    "            location = 'chair3 - tree'\n",
    "        # 1st zone is tree\n",
    "        elif (dropbox1.value == 4) and (dropbox2.value == 1):\n",
    "            data = pd.read_csv(\"treeRaincoat.csv\")\n",
    "            data2 = pd.read_csv(\"chair1Raincoat.csv\")\n",
    "            data['pct50'] = data['pct50'] - data2['pct50']\n",
    "            location = 'tree - chair1'\n",
    "        elif (dropbox1.value == 4) and (dropbox2.value == 2):\n",
    "            data = pd.read_csv(\"treeRaincoat.csv\")\n",
    "            data2 = pd.read_csv(\"chair2Raincoat.csv\")\n",
    "            data['pct50'] = data['pct50'] - data2['pct50']\n",
    "            location = 'tree - chair2'\n",
    "        elif (dropbox1.value == 4) and (dropbox2.value == 3):\n",
    "            data = pd.read_csv(\"treeRaincoat.csv\")\n",
    "            data2 = pd.read_csv(\"chair3Raincoat.csv\")\n",
    "            data['pct50'] = data['pct50'] - data2['pct50']\n",
    "            location = 'tree - chair3'\n",
    "        elif (dropbox1.value == 4) and (dropbox2.value == 4):\n",
    "            data = pd.read_csv(\"treeRaincoat.csv\")\n",
    "            location = 'tree'\n",
    "            \n",
    "        fig = px.line(data, x=\"time\", y=\"pct50\", title='Trend Chart of Dwell Time in '+location)\n",
    "        fig.show()\n",
    "        plt.show()\n",
    "\n",
    "# creation of a widget html showing the type of the sensor\n",
    "title = widgets.HTML(\n",
    "    value=\"<b>Under Raincoat</b> Sandbox\"\n",
    ")\n",
    "\n",
    "# creation of a widget dropdown object called dropbox1\n",
    "dropbox1 = widgets.Dropdown(\n",
    "    options=[('Chair1', 1), ('Chair2', 2), ('Chair3', 3), ('Tree', 4)],\n",
    "    value=2,\n",
    "    description='1st Zone:',\n",
    ");\n",
    "\n",
    "# creation of a widget dropdown object called dropbox2\n",
    "dropbox2 = widgets.Dropdown(\n",
    "    options=[('Chair1', 1), ('Chair2', 2), ('Chair3', 3), ('Tree', 4)],\n",
    "    value=2,\n",
    "    description='2nd Zone:',\n",
    ")\n",
    "\n",
    "# Button to click\n",
    "select_button = widgets.Button(\n",
    "    description='Apply',\n",
    ")\n",
    "\n",
    "out = widgets.Output()\n",
    "\n",
    "# Event Handlers\n",
    "dropbox1.observe(bar,names='value')\n",
    "dropbox2.observe(bar,names='value')\n",
    "select_button.on_click(get_user_selection)\n",
    "# Create a UI object to display things.  There are other ways of organizing them.\n",
    "ui = widgets.HBox([title,dropbox1,dropbox2,select_button]) # pass an array of widgets to the ui\n",
    "\n",
    "# display the UI"
   ]
  },
  {
   "cell_type": "code",
   "execution_count": 26,
   "metadata": {
    "extensions": {
     "jupyter_dashboards": {
      "version": 1,
      "views": {
       "grid_default": {},
       "report_default": {
        "hidden": false
       }
      }
     }
    },
    "slideshow": {
     "slide_type": "slide"
    }
   },
   "outputs": [
    {
     "data": {
      "application/vnd.jupyter.widget-view+json": {
       "model_id": "39701661503748eb831bbd56023123a7",
       "version_major": 2,
       "version_minor": 0
      },
      "text/plain": [
       "HBox(children=(HTML(value='<b>Under Raincoat</b> Sandbox'), Dropdown(description='1st Zone:', index=1, options…"
      ]
     },
     "metadata": {},
     "output_type": "display_data"
    },
    {
     "data": {
      "application/vnd.jupyter.widget-view+json": {
       "model_id": "b7d636e2170f4d97aaffb10addcd5d78",
       "version_major": 2,
       "version_minor": 0
      },
      "text/plain": [
       "Output()"
      ]
     },
     "metadata": {},
     "output_type": "display_data"
    }
   ],
   "source": [
    "display(ui)\n",
    "with out:\n",
    "    show()\n",
    "out"
   ]
  },
  {
   "cell_type": "markdown",
   "metadata": {
    "extensions": {
     "jupyter_dashboards": {
      "version": 1,
      "views": {
       "grid_default": {},
       "report_default": {
        "hidden": false
       }
      }
     }
    }
   },
   "source": [
    "# Desired Lines<a class=\"anchor\" id=\"desired-lines\"></a>"
   ]
  },
  {
   "cell_type": "markdown",
   "metadata": {
    "extensions": {
     "jupyter_dashboards": {
      "version": 1,
      "views": {
       "grid_default": {},
       "report_default": {
        "hidden": false
       }
      }
     }
    }
   },
   "source": [
    "# Required Maintenance<a class=\"anchor\" id=\"required-maintenance\"></a>"
   ]
  },
  {
   "cell_type": "markdown",
   "metadata": {
    "extensions": {
     "jupyter_dashboards": {
      "version": 1,
      "views": {
       "grid_default": {},
       "report_default": {
        "hidden": false
       }
      }
     }
    }
   },
   "source": [
    "# Privacy Philosophy<a class=\"anchor\" id=\"privacy-philosophy\"></a>"
   ]
  }
 ],
 "metadata": {
  "extensions": {
   "jupyter_dashboards": {
    "activeView": "report_default",
    "version": 1,
    "views": {
     "grid_default": {
      "name": "grid",
      "type": "grid"
     },
     "report_default": {
      "name": "report",
      "type": "report"
     }
    }
   }
  },
  "kernelspec": {
   "display_name": "Python 3",
   "language": "python",
   "name": "python3"
  },
  "language_info": {
   "codemirror_mode": {
    "name": "ipython",
    "version": 3
   },
   "file_extension": ".py",
   "mimetype": "text/x-python",
   "name": "python",
   "nbconvert_exporter": "python",
   "pygments_lexer": "ipython3",
   "version": "3.7.6"
  }
 },
 "nbformat": 4,
 "nbformat_minor": 4
}
