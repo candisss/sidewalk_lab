{
 "cells": [
  {
   "cell_type": "markdown",
   "metadata": {},
   "source": [
    "For desire line, the user will get to play with four interactive plots.\n",
    "\n",
    "The first one is for users to view the different behavior zones of each sensor. This provides the background information for the users, so that they will be able to understand what the zones are in the following heatmaps.\n",
    "\n",
    "The second one is the heatmap of the streetscape sensor. The user gets to select the event and multiple bahavior zones . The mechanism is that once the user selects a zone, he or she will be able to see all the paths of the pedestrians that are from or to this behavior zone. If the user select multiple zones, he or she will be able to see all the paths that are either originated or to these zones. The paths are colored by their popularity, meaning that the most popular path will have the darkest color, orange. By selecting different zone, the user only needs to find the connecting lines across the zones, which ideally will be the desire line when an object travels from one of the selected zones to another. If there doesn't exist a connecting line, the user can see the overall pattern and will be able to see the trends by themselves.\n",
    "\n",
    "We only focus on the event days since the objects' moving behavior will depend on the setup of the sidewalk lab for different events. By comparing the differences, for example, the event coordinator will be able to find out the impacts of the setup on viewers' moving behavior. And hopefully it can provide them some ideas about how to set up the lab for different types of events.\n",
    "\n",
    "The third and the forth interactive plots are the same as the second one, except for that they are for the outside sensor and the under raincoat sensor."
   ]
  },
  {
   "cell_type": "code",
   "execution_count": null,
   "metadata": {},
   "outputs": [],
   "source": []
  }
 ],
 "metadata": {
  "kernelspec": {
   "display_name": "Python 3",
   "language": "python",
   "name": "python3"
  },
  "language_info": {
   "codemirror_mode": {
    "name": "ipython",
    "version": 3
   },
   "file_extension": ".py",
   "mimetype": "text/x-python",
   "name": "python",
   "nbconvert_exporter": "python",
   "pygments_lexer": "ipython3",
   "version": "3.7.0"
  }
 },
 "nbformat": 4,
 "nbformat_minor": 4
}
