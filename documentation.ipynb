{
 "cells": [
  {
   "cell_type": "markdown",
   "metadata": {},
   "source": [
    "In this documentation, we will provide a guide on how to operate the webpage and what data is being displayed."
   ]
  },
  {
   "cell_type": "markdown",
   "metadata": {},
   "source": [
    "We have divided the webpage into five subsections: <br />\n",
    "> Introduction <br />\n",
    "> Dwell Time <br />\n",
    "> Desired Lines <br />\n",
    "> Required Maintenance <br />\n",
    "> Privacy Philosophy <br />\n",
    "\n",
    "On the left side of the webpage, there is a navigation bar, and user can click on the section they want to view and the user will be navigated to the corresponding section."
   ]
  },
  {
   "cell_type": "markdown",
   "metadata": {},
   "source": [
    "## Introduction"
   ]
  },
  {
   "cell_type": "markdown",
   "metadata": {},
   "source": [
    "## Dwell Time"
   ]
  },
  {
   "cell_type": "markdown",
   "metadata": {},
   "source": [
    "There are three subsections in this part:\n",
    "> Where do people tend to linger? <br />\n",
    "> When do people tend to linger? <br />\n",
    "> How does dwell time change over time? <br />\n",
    "\n",
    "Also, user can use the navigation bar on the left to navigate to the corresponding subsection. In addition, user can use the subtitles under Dwell Time to navigate."
   ]
  },
  {
   "cell_type": "markdown",
   "metadata": {},
   "source": [
    "### Where do people tend to linger?"
   ]
  },
  {
   "cell_type": "markdown",
   "metadata": {},
   "source": [
    "There are two interactions under this subsection. <br />\n",
    "#### Heapmap of Dwell Time\n",
    "The first one is the heatmap of dwell time for a specific event and a specific sensor. To see where people tend to linger, the most direct way is to display the heatmap of dwell time. In this interaction, user can choose one sensor among the three sensors and can also choose one time, and it will display the heatmap of dwell time for that sensor during the chosen time. The region with darker color indicates that people dwell for a longer time in this region. We have stored the median dwell time and then used the heatmap to display the dwell time."
   ]
  },
  {
   "cell_type": "markdown",
   "metadata": {},
   "source": [
    "#### Long Dwell Time Filter\n",
    "The second one is the long dwell time filter. Since it is hard to make a definition of \"long\" dwell time, users can define their own \"long\" dwell time by using the slider to pick a threshold and choose a sensor among three sensors, and it will display all regions in this location with dwell time larger than the threshold. And the regions that pass the threshold are highlighted in the plot, while those regions that do not pass the threshold are shown in dark grey. We have used the median dwell time for all available dates for different regions(2019-02-20 to 2020-01-12 for Streetscape - Sandbox and 2019-03-20 to 2020-01-12 for Outside - Sandbox and Under Raincoat - Sandbox) in this section."
   ]
  },
  {
   "cell_type": "markdown",
   "metadata": {},
   "source": [
    "### When do people tend to linger?"
   ]
  },
  {
   "cell_type": "markdown",
   "metadata": {},
   "source": [
    "There is one interaction under this subsection."
   ]
  },
  {
   "cell_type": "markdown",
   "metadata": {},
   "source": [
    "#### Calendar Heatmap of Dwell Time\n",
    "User can choose a sensor among Outside - Sandbox, Streetscape - Sandbox and Under Raincoat - Sandbox. And it will display the calendar heatmap of dwell time for that location. The darker color indicates that people dwell longer on that day, and the grey color indicates that the data for that sensor on that day is not available. We have used the median dwell time for that sensor of each day for all available dates(2019-02-20 to 2020-01-12 for Streetscape - Sandbox and 2019-03-20 to 2020-01-12 for Outside - Sandbox and Under Raincoat - Sandbox)."
   ]
  },
  {
   "cell_type": "markdown",
   "metadata": {},
   "source": [
    "### How does dwell time change over time? "
   ]
  },
  {
   "cell_type": "markdown",
   "metadata": {},
   "source": [
    "#### Behavior Zones for Three Sensors\n",
    "First, we have divided one region into several behavior zones. To help user better know what each behavior zone looks like, we have created an interactive section and user can choose one sensor among the three sensors to see how behavior zone is divided in this region, and this further helps users operate the line chart below."
   ]
  },
  {
   "cell_type": "markdown",
   "metadata": {},
   "source": [
    "#### Trend Chart of Dwell Time in Behavior Zone\n",
    "There are three interactive parts here and each interactive part represents one sensor, and we did not combine them into one interactive section since we divided behavior zones differently in different locations. <br />\n",
    "First, user should select two behavior zones. If user wants to see the how dwell time changes in one specific behavior zone, 1st Zone and 2nd Zone he/she chooses must be the same. For example, if user wants to see how dwell time changes in behavior zone 'Table', then both 1st Zone and 2nd Zone should be chosen as 'Table' here. The data we used here is the median dwell time of each day for this behavior zone.<br />\n",
    "If user wants to make a comparison between two behavior zones, he/she should choose two different behavior zones, and after clicking 'Apply', it will display the trend chart of the difference dwell time between the two regions. For example, if 1st Zone is 'Table' and the 2nd Zone is 'Tree', then we calculated median dwell time for behavior zone Table minus median dwell time for behavior zone Tree of each day. So if the value is greater than 0, it indicates that the for that day, the median dwell time for 1st Zone is larger than that for the 2nd Zone. In contrast, if the value is less than 0, it indicates that the for that day, the median dwell time for 1st Zone is smaller than that for the 2nd Zone. <br />\n",
    "If user wants to see the specific date or median dwell time, user can hover over that point, and it will display the date and median dwell time for that point. In addition, if user wants to magnify the line chart, there is a zoom in button on the top right corner. Also, if user wants to zoom in one specific region, he/she can creates a square, and the region within the squared will be maginified, and once the user double clicks, it will return to the original plot."
   ]
  },
  {
   "cell_type": "code",
   "execution_count": null,
   "metadata": {},
   "outputs": [],
   "source": []
  }
 ],
 "metadata": {
  "kernelspec": {
   "display_name": "Python 3",
   "language": "python",
   "name": "python3"
  },
  "language_info": {
   "codemirror_mode": {
    "name": "ipython",
    "version": 3
   },
   "file_extension": ".py",
   "mimetype": "text/x-python",
   "name": "python",
   "nbconvert_exporter": "python",
   "pygments_lexer": "ipython3",
   "version": "3.7.6"
  }
 },
 "nbformat": 4,
 "nbformat_minor": 4
}
